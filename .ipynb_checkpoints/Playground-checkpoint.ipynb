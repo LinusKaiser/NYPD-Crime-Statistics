{
 "cells": [
  {
   "cell_type": "code",
   "execution_count": 1,
   "metadata": {},
   "outputs": [],
   "source": [
    "from selenium import webdriver\n",
    "from selenium.webdriver.common.keys import Keys\n",
    "from selenium.webdriver.common.by import By\n",
    "from selenium.webdriver.support.ui import WebDriverWait\n",
    "from selenium.webdriver.support import expected_conditions as EC\n",
    "\n",
    "from ipyleaflet import Map, Marker, MarkerCluster\n",
    "\n",
    "from pymongo import MongoClient\n",
    "import numpy as np\n",
    "import pandas as pd\n",
    "import sklearn as skl"
   ]
  },
  {
   "cell_type": "code",
   "execution_count": 43,
   "metadata": {},
   "outputs": [
    {
     "name": "stderr",
     "output_type": "stream",
     "text": [
      "/var/folders/t5/897mfw654t12zzv623vx_9r80000gn/T/ipykernel_75592/4205032709.py:3: DeprecationWarning: executable_path has been deprecated, please pass in a Service object\n",
      "  driver = webdriver.Chrome(PATH)\n",
      "/var/folders/t5/897mfw654t12zzv623vx_9r80000gn/T/ipykernel_75592/4205032709.py:9: DeprecationWarning: find_element_by_xpath is deprecated. Please use find_element(by=By.XPATH, value=xpath) instead\n",
      "  search_weekly_total_crime_number = driver.find_element_by_xpath('//*[@id=\"report-win1\"]/div[3]/div[2]/div/div/div[3]/div[1]/table/tbody/tr[9]/td[1]/div/div')\n"
     ]
    }
   ],
   "source": [
    "PATH = \"/Users/suntim/Documents/Programming/Machine Learning/NYC Crime/chromedriver\"\n",
    "\n",
    "driver = webdriver.Chrome(PATH)\n",
    "\n",
    "driver.get(\"https://compstat.nypdonline.org/\")\n",
    "\n",
    "driver.implicitly_wait(10)\n",
    "\n",
    "search_weekly_total_crime_number = driver.find_element_by_xpath('//*[@id=\"report-win1\"]/div[3]/div[2]/div/div/div[3]/div[1]/table/tbody/tr[9]/td[1]/div/div')\n",
    "search_weekly_total_crime_number.click()\n",
    "\n",
    "\n",
    "\n",
    "\n"
   ]
  },
  {
   "cell_type": "code",
   "execution_count": 78,
   "metadata": {},
   "outputs": [
    {
     "name": "stderr",
     "output_type": "stream",
     "text": [
      "/var/folders/t5/897mfw654t12zzv623vx_9r80000gn/T/ipykernel_75592/1339994873.py:3: DeprecationWarning: executable_path has been deprecated, please pass in a Service object\n",
      "  driver = webdriver.Chrome(PATH)\n"
     ]
    },
    {
     "name": "stdout",
     "output_type": "stream",
     "text": [
      "[<selenium.webdriver.remote.webelement.WebElement (session=\"22b6c2d63dac9c9cd6a7ec2bef9adb89\", element=\"7e75e2fc-85c7-429e-af41-75b786597e1d\")>]\n",
      "circle:  1 \n",
      "<defs></defs><circle cx=\"159.5\" cy=\"372.9999999999127\" r=\"0\" stroke=\"#000080\" stroke-width=\"0.5\" fill=\"rgb(19, 115, 186)\" fill-opacity=\"1\"></circle>\n",
      "complete\n"
     ]
    }
   ],
   "source": [
    "PATH = \"/Users/suntim/Documents/Programming/Machine Learning/NYC Crime/chromedriver\"\n",
    "\n",
    "driver = webdriver.Chrome(PATH)\n",
    "\n",
    "driver.get(\"https://compstat.nypdonline.org/\")\n",
    "\n",
    "try:\n",
    "    wait = WebDriverWait(driver, 20)\n",
    "    search_weekly_total_crime_number = wait.until(\n",
    "        EC.presence_of_element_located((By.XPATH, '//*[@id=\"report-win1\"]/div[3]/div[2]/div/div/div[3]/div[1]/table/tbody/tr[9]/td[1]/div/div'))\n",
    "    )\n",
    "    search_weekly_total_crime_number.click()\n",
    "\n",
    "\n",
    "    wait_for_cicles_to_appear = wait.until(\n",
    "        EC.presence_of_element_located((By.CSS_SELECTOR, '#report-win13 > div.window-content > div.full-height > div > div.full-height.k-map > div.km-widget.km-scroll-wrapper > div.km-scroll-container > div:nth-child(4) > svg > circle:nth-child(2)'))\n",
    "    )\n",
    "\n",
    "    \n",
    "    circles = driver.find_elements(By.CSS_SELECTOR, '#report-win13 > div.window-content > div.full-height > div > div.full-height.k-map > div.km-widget.km-scroll-wrapper > div.km-scroll-container > div:nth-child(4) > svg')\n",
    "    #circles = svg.find_elements(By.CSS_SELECTOR, '#report-win13 > div.window-content > div.full-height > div > div.full-height.k-map > div.km-widget.km-scroll-wrapper > div.km-scroll-container > div:nth-child(4) > svg > circle')\n",
    "\n",
    "    circles = driver.find_elements(By.Locator)\n",
    "\n",
    "    #print(svg)\n",
    "    print(circles)\n",
    "\n",
    "    number = 0\n",
    "    for circle in circles:\n",
    "        number += 1\n",
    "        print(\"circle: \", number, circle.text)\n",
    "\n",
    "        print(circle.get_attribute(\"innerHTML\"))\n",
    "\n",
    "finally:\n",
    "    print(\"complete\")\n"
   ]
  },
  {
   "cell_type": "code",
   "execution_count": null,
   "metadata": {},
   "outputs": [],
   "source": [
    "search_box = driver.find_element(by=By.NAME, value=\"q\")\n",
    "search_button = driver.find_element(by=By.NAME, value=\"btnK\")\n",
    "\n",
    "search_box.send_keys(\"Selenium\")\n",
    "search_button.click()"
   ]
  },
  {
   "cell_type": "code",
   "execution_count": 2,
   "metadata": {},
   "outputs": [],
   "source": [
    "m = Map(center=(50, 0), zoom=5)\n",
    "\n",
    "marker1 = Marker(location=(48, -2))\n",
    "marker2 = Marker(location=(50, 0))\n",
    "marker3 = Marker(location=(52, 2))"
   ]
  },
  {
   "cell_type": "code",
   "execution_count": 3,
   "metadata": {},
   "outputs": [
    {
     "data": {
      "application/vnd.jupyter.widget-view+json": {
       "model_id": "b972634067c44bc6a15559f3a2984284",
       "version_major": 2,
       "version_minor": 0
      },
      "text/plain": [
       "Map(center=[50, 0], controls=(ZoomControl(options=['position', 'zoom_in_text', 'zoom_in_title', 'zoom_out_text…"
      ]
     },
     "metadata": {},
     "output_type": "display_data"
    }
   ],
   "source": [
    "m"
   ]
  }
 ],
 "metadata": {
  "interpreter": {
   "hash": "8cf72c6e912855d9ae9a83d18950c3a9dcdff985c13ba2457bd6b57c775c742a"
  },
  "kernelspec": {
   "display_name": "Python 3.8.13 ('python3.8')",
   "language": "python",
   "name": "python3"
  },
  "language_info": {
   "codemirror_mode": {
    "name": "ipython",
    "version": 3
   },
   "file_extension": ".py",
   "mimetype": "text/x-python",
   "name": "python",
   "nbconvert_exporter": "python",
   "pygments_lexer": "ipython3",
   "version": "3.8.13"
  },
  "orig_nbformat": 4
 },
 "nbformat": 4,
 "nbformat_minor": 2
}
