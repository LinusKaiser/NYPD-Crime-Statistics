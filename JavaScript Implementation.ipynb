{
 "cells": [
  {
   "cell_type": "markdown",
   "metadata": {},
   "source": [
    "## New York City Crime Statistics - Web-Scrapping Project"
   ]
  },
  {
   "cell_type": "markdown",
   "metadata": {},
   "source": [
    "This code has been written in **Python 3.8.13** and executed on a M1 Mac \\\n",
    "Depending on the OS used for execution a different Chrome Driver might be needed to execute succesfully"
   ]
  },
  {
   "cell_type": "markdown",
   "metadata": {},
   "source": [
    "<img src=\"Images/Compstat 2.0 Example.png\"></img>"
   ]
  },
  {
   "cell_type": "markdown",
   "metadata": {},
   "source": [
    "In the image above, we can see the Compstat 2.0 Website. On the left of the website, in the **CompStat Book** \n",
    "section, it can be specified what data points should be shown on the **Incident Map** in the middle. (In the \n",
    "image above, I selected the **<u>Total</u>** Number of Crimes that Happened in the **<u>Week to Date</u>** \n",
    "**<u>2022</u>** from 06/13/2022 - 06/19/2022). With each circle, there are relational x and y coordinates \n",
    "as well as a specific and broad cime label and the time of the occurence of the crime. Each circle on the \n",
    "map has to be clicked individually to derive the previously mentioned data from the HTML code of the website."
   ]
  },
  {
   "cell_type": "markdown",
   "metadata": {},
   "source": [
    "### Objective\n",
    "- first, specify a category and time frame of crimes that should be displayed on the map\n",
    "- loop through all circles on the map to get the time, location, and specific/broad crime label"
   ]
  },
  {
   "cell_type": "markdown",
   "metadata": {},
   "source": [
    "### Implementation"
   ]
  },
  {
   "cell_type": "code",
   "execution_count": null,
   "metadata": {},
   "outputs": [],
   "source": [
    "!pip3 install selenium webdriver-manager tqdm pandas geopandas datetime keplergl"
   ]
  },
  {
   "cell_type": "markdown",
   "metadata": {},
   "source": [
    "- importing all relevant packages for the scrapping of the Compstat 2.0 website"
   ]
  },
  {
   "cell_type": "code",
   "execution_count": 21,
   "metadata": {},
   "outputs": [],
   "source": [
    "from selenium import webdriver\n",
    "from selenium.webdriver.common.by import By\n",
    "from selenium.webdriver.support.ui import WebDriverWait\n",
    "from selenium.webdriver.support import expected_conditions as EC\n",
    "from selenium.webdriver.chrome.service import Service\n",
    "from webdriver_manager.chrome import ChromeDriverManager\n",
    "\n",
    "import pandas as pd\n",
    "import numpy as np\n",
    "import time as tm\n",
    "import re\n",
    "from datetime import datetime\n",
    "\n",
    "from tqdm import tqdm"
   ]
  },
  {
   "cell_type": "markdown",
   "metadata": {},
   "source": [
    "- The following function sets up a chrome instance to use for the website interactions"
   ]
  },
  {
   "cell_type": "code",
   "execution_count": 2,
   "metadata": {},
   "outputs": [],
   "source": [
    "def settingUpChrome():\n",
    "    \"\"\"Creates an instance of the chrome browser and opens up the Compstat2.0 website\"\"\"\n",
    "    #option = webdriver.ChromeOptions()\n",
    "    #option.add_argument('headless')\n",
    "    global driver\n",
    "    driver = webdriver.Chrome(service=Service(ChromeDriverManager().install()))\n",
    "    driver.get(\"https://compstat.nypdonline.org/\")\n",
    "    driver.maximize_window()"
   ]
  },
  {
   "cell_type": "markdown",
   "metadata": {},
   "source": [
    "- This function finds the relevant elements on the Compstat 2.0 website and assigns them to global variables so that they can be interacted with.\n",
    "- It also creates an Dictionary where all elements that specify the different types of data categories are being saved."
   ]
  },
  {
   "cell_type": "code",
   "execution_count": 19,
   "metadata": {},
   "outputs": [],
   "source": [
    "def loadElementsOnSite():\n",
    "    \"\"\"Loads all neccesary elements on the site that will be interacted with and assigns them to variables\"\"\"\n",
    "    global wait\n",
    "    wait = WebDriverWait(driver, 20)\n",
    "    global wait_for_element\n",
    "    def wait_for_element(locator_type:str,locator:str):\n",
    "            return wait.until(EC.presence_of_element_located((eval(locator_type), locator))) \n",
    "\n",
    "    global search_category_dict \n",
    "    search_category_dict = {}\n",
    "\n",
    "    global general_element_dictionary\n",
    "    general_element_dictionary = {}\n",
    "\n",
    "    try:\n",
    "        # Totals\n",
    "        global total_week_to_date_2022\n",
    "        total_week_to_date_2022 = wait_for_element(\"By.XPATH\",\\\n",
    "             '//*[@id=\"report-win1\"]/div[3]/div[2]/div/div/div[3]/div[1]/table/tbody/tr[9]/td[1]/div/div')\n",
    "\n",
    "        search_category_dict[\"total_week_to_date_2021\"] = wait_for_element(\"By.XPATH\",\\\n",
    "             '//*[@id=\"report-win1\"]/div[3]/div[2]/div/div/div[3]/div[1]/table/tbody/tr[9]/td[2]/div/div')\n",
    "\n",
    "        search_category_dict[\"total_28_day_2022\"] = wait_for_element(\"By.XPATH\",\\\n",
    "             '//*[@id=\"report-win1\"]/div[3]/div[2]/div/div/div[3]/div[1]/table/tbody/tr[9]/td[4]/div/div')\n",
    "\n",
    "        search_category_dict[\"total_28_day_2021\"] = wait_for_element(\"By.XPATH\",\\\n",
    "             '//*[@id=\"report-win1\"]/div[3]/div[2]/div/div/div[3]/div[1]/table/tbody/tr[9]/td[5]/div/div')\n",
    "\n",
    "        global total_year_to_date_2022  \n",
    "        total_year_to_date_2022 = wait_for_element(\"By.XPATH\",\\\n",
    "             '//*[@id=\"report-win1\"]/div[3]/div[2]/div/div/div[3]/div[1]/table/tbody/tr[9]/td[7]/div/div')\n",
    "\n",
    "        search_category_dict[\"total_year_to_date_2021\"] = wait_for_element(\"By.XPATH\",\\\n",
    "             '//*[@id=\"report-win1\"]/div[3]/div[2]/div/div/div[3]/div[1]/table/tbody/tr[9]/td[8]/div/div')\n",
    "\n",
    "        # Patrols\n",
    "        search_category_dict[\"patrol_week_to_date_2022\"] = wait_for_element(\"By.XPATH\",\\\n",
    "             '//*[@id=\"report-win1\"]/div[3]/div[2]/div/div/div[3]/div[1]/table/tbody/tr[10]/td[1]/div/div')\n",
    "\n",
    "        search_category_dict[\"patrol_week_to_date_2021\"] = wait_for_element(\"By.XPATH\",\\\n",
    "             '//*[@id=\"report-win1\"]/div[3]/div[2]/div/div/div[3]/div[1]/table/tbody/tr[10]/td[2]/div/div')\n",
    "\n",
    "        search_category_dict[\"patrol_28_day_2022\"] = wait_for_element(\"By.XPATH\",\\\n",
    "             '//*[@id=\"report-win1\"]/div[3]/div[2]/div/div/div[3]/div[1]/table/tbody/tr[10]/td[4]/div/div')\n",
    "\n",
    "        search_category_dict[\"patrol_28_day_2021\"] = wait_for_element(\"By.XPATH\",\\\n",
    "             '//*[@id=\"report-win1\"]/div[3]/div[2]/div/div/div[3]/div[1]/table/tbody/tr[10]/td[5]/div/div')\n",
    "\n",
    "        search_category_dict[\"patrol_year_to_date_2022\"] = wait_for_element(\"By.XPATH\",\\\n",
    "             '//*[@id=\"report-win1\"]/div[3]/div[2]/div/div/div[3]/div[1]/table/tbody/tr[10]/td[7]/div/div')\n",
    "        \n",
    "        search_category_dict[\"patrol_year_to_date_2021\"] = wait_for_element(\"By.XPATH\",\\\n",
    "             '//*[@id=\"report-win1\"]/div[3]/div[2]/div/div/div[3]/div[1]/table/tbody/tr[10]/td[8]/div/div')\n",
    "\n",
    "        # Transits\n",
    "        search_category_dict[\"transit_week_to_date_2022\"] = wait_for_element(\"By.XPATH\",\\\n",
    "             '//*[@id=\"report-win1\"]/div[3]/div[2]/div/div/div[3]/div[1]/table/tbody/tr[11]/td[1]/div/div')\n",
    "\n",
    "        search_category_dict[\"transit_week_to_date_2021\"] = wait_for_element(\"By.XPATH\",\\\n",
    "             '//*[@id=\"report-win1\"]/div[3]/div[2]/div/div/div[3]/div[1]/table/tbody/tr[11]/td[2]/div/div')\n",
    "\n",
    "        search_category_dict[\"transit_28_day_2022\"] = wait_for_element(\"By.XPATH\",\\\n",
    "             '//*[@id=\"report-win1\"]/div[3]/div[2]/div/div/div[3]/div[1]/table/tbody/tr[11]/td[4]/div/div')\n",
    "\n",
    "        search_category_dict[\"transit_28_day_2021\"] = wait_for_element(\"By.XPATH\",\\\n",
    "             '//*[@id=\"report-win1\"]/div[3]/div[2]/div/div/div[3]/div[1]/table/tbody/tr[11]/td[5]/div/div')\n",
    "\n",
    "        search_category_dict[\"transit_year_to_date_2022\"] = wait_for_element(\"By.XPATH\",\\\n",
    "             '//*[@id=\"report-win1\"]/div[3]/div[2]/div/div/div[3]/div[1]/table/tbody/tr[11]/td[7]/div/div')\n",
    "        \n",
    "        search_category_dict[\"transit_year_to_date_2021\"] = wait_for_element(\"By.XPATH\",\\\n",
    "             '//*[@id=\"report-win1\"]/div[3]/div[2]/div/div/div[3]/div[1]/table/tbody/tr[11]/td[8]/div/div')\n",
    "\n",
    "        # Housings\n",
    "        search_category_dict[\"housing_week_to_date_2022\"] = wait_for_element(\"By.XPATH\",\\\n",
    "             '//*[@id=\"report-win1\"]/div[3]/div[2]/div/div/div[3]/div[1]/table/tbody/tr[12]/td[1]/div/div')\n",
    "\n",
    "        search_category_dict[\"housing_week_to_date_2021\"] = wait_for_element(\"By.XPATH\",\\\n",
    "             '//*[@id=\"report-win1\"]/div[3]/div[2]/div/div/div[3]/div[1]/table/tbody/tr[12]/td[2]/div/div')\n",
    "\n",
    "        search_category_dict[\"housing_28_day_2022\"] = wait_for_element(\"By.XPATH\",\\\n",
    "             '//*[@id=\"report-win1\"]/div[3]/div[2]/div/div/div[3]/div[1]/table/tbody/tr[12]/td[4]/div/div')\n",
    "\n",
    "        search_category_dict[\"housing_28_day_2021\"] = wait_for_element(\"By.XPATH\",\\\n",
    "             '//*[@id=\"report-win1\"]/div[3]/div[2]/div/div/div[3]/div[1]/table/tbody/tr[12]/td[5]/div/div')\n",
    "\n",
    "        search_category_dict[\"housing_year_to_date_2022\"] = wait_for_element(\"By.XPATH\",\\\n",
    "             '//*[@id=\"report-win1\"]/div[3]/div[2]/div/div/div[3]/div[1]/table/tbody/tr[12]/td[7]/div/div')\n",
    "        \n",
    "        search_category_dict[\"housing_year_to_date_2021\"] = wait_for_element(\"By.XPATH\",\\\n",
    "             '//*[@id=\"report-win1\"]/div[3]/div[2]/div/div/div[3]/div[1]/table/tbody/tr[12]/td[8]/div/div')\n",
    "\n",
    "\n",
    "        global wait_for_cicles_to_appear\n",
    "        wait_for_cicles_to_appear = wait.until(\n",
    "            EC.presence_of_element_located((By.CSS_SELECTOR,\\\n",
    "                 '#report-win13 > div.window-content > div.full-height > div > div.full-height.k-map > div.km-widget.km-scroll-wrapper > div.km-scroll-container > div:nth-child(4) > svg > circle:nth-child(2)')))\n",
    "\n",
    "        global first_circle\n",
    "        first_circle = wait.until(\n",
    "            EC.presence_of_element_located((By.CSS_SELECTOR,\\\n",
    "                 '#report-win13 > div.window-content > div.full-height > div > div.full-height.k-map > div.km-widget.km-scroll-wrapper > div.km-scroll-container > div:nth-child(4) > svg')))                                                     \n",
    "\n",
    "        global zoom_out\n",
    "        zoom_out = wait.until(\n",
    "            EC.presence_of_element_located((By.CSS_SELECTOR,\\\n",
    "                 '#report-win13 > div.window-content > div.full-height > div > div.full-height.k-map > div.k-map-controls.k-pos-top.k-pos-left > div > button.k-button.k-zoom-out')))\n",
    "\n",
    "        global zoom_in\n",
    "        zoom_in = wait.until(\n",
    "            EC.presence_of_element_located((By.CSS_SELECTOR,\\\n",
    "                 '#report-win13 > div.window-content > div.full-height > div > div.full-height.k-map > div.k-map-controls.k-pos-top.k-pos-left > div > button.k-button.k-zoom-in')))\n",
    "\n",
    "        global incident_map_logo\n",
    "        incident_map_logo = wait.until(\n",
    "            EC.presence_of_element_located((By.CSS_SELECTOR,\\\n",
    "                 '#report-win13 > div.window-header > h4')))\n",
    "        \n",
    "        global map_mover\n",
    "        map_mover = wait.until(\n",
    "            EC.presence_of_element_located((By.CSS_SELECTOR,\\\n",
    "                 '#report-win13 > div.window-content > div.full-height > div > div.full-height.k-map > div.km-widget.km-scroll-wrapper > div.km-scroll-container'))) \n",
    "        \n",
    "        global toggle_large_map\n",
    "        toggle_large_map = wait.until(\n",
    "            EC.presence_of_element_located((By.XPATH,\\\n",
    "                 '//*[@id=\"report-win13\"]/div[2]/a/span')))\n",
    "\n",
    "        global map_element\n",
    "        map_element = wait.until(\n",
    "            EC.presence_of_element_located((By.CSS_SELECTOR,\\\n",
    "                 '#report-win13 > div.window-content > div.full-height > div > div.full-height.k-map')))\n",
    "\n",
    "    finally:\n",
    "        print(\"loading of Elements has finished\")"
   ]
  },
  {
   "cell_type": "markdown",
   "metadata": {},
   "source": [
    "This function allows to move on the SVG map horizontaly and vertically"
   ]
  },
  {
   "cell_type": "code",
   "execution_count": 4,
   "metadata": {},
   "outputs": [],
   "source": [
    "def moveOnMap(direction: str, scalar):\n",
    "    \"\"\"allows horizontal and vertical movement on the map; magnitude of movement is controlled by the scalar\"\"\"\n",
    "    map_element = wait.until(\n",
    "        EC.presence_of_element_located((By.CSS_SELECTOR, '#report-win13 > div.window-content > div.full-height > div > div.full-height.k-map')))\n",
    "\n",
    "    if direction == \"moveUp\":\n",
    "        webdriver.ActionChains(driver).move_to_element(map_element).click_and_hold().move_by_offset(0,1*scalar).release().perform() \n",
    "    elif direction == \"moveDown\":\n",
    "        webdriver.ActionChains(driver).move_to_element(map_element).click_and_hold().move_by_offset(0,-1*scalar).release().perform()\n",
    "    elif direction == \"moveLeft\":    \n",
    "        webdriver.ActionChains(driver).move_to_element(map_element).click_and_hold().move_by_offset(1*scalar,0).release().perform() \n",
    "    elif direction == \"moveRight\":    \n",
    "        webdriver.ActionChains(driver).move_to_element(map_element).click_and_hold().move_by_offset(-1*scalar,0).release().perform()\n",
    "    else:\n",
    "        print(\"please specify a direction that can be interpreted\")    "
   ]
  },
  {
   "cell_type": "markdown",
   "metadata": {},
   "source": [
    "This function does a number of things:\n",
    "- enlarges the SVG map to increase the viewing field of circles on the map\n",
    "- on the map zooms out a bit to make sure all circles are within the visible frame of the map (hence clickable)\n",
    "- uses JavaScript to set the `.style.visibility` of every circle to `hidden`\n",
    "- then, we iterate through the circles, and set their visibility to `visible` one after the other and click the circle on the map\n",
    "    - 1. We do it this way because the data we are looking for only appears in the HTML for a single circle (the one that has been clicked)\n",
    "    - 2. We make every circle invisible so that there is no other circle that overlaps the circle that we intend to click\n",
    "- after a circle has been clicked and the data has been extracted, we set the visibility back to `hidden` and move to the next circle\n"
   ]
  },
  {
   "cell_type": "code",
   "execution_count": 29,
   "metadata": {},
   "outputs": [],
   "source": [
    "def selectDataOfChategory(verbose: bool):\n",
    "    \"\"\"\n",
    "    Parameters:\n",
    "    category (WebElement): can be one of the cells on the left side of the Compstat2.0 website that specify agregate numbers of crimes\n",
    "\n",
    "    Returns:\n",
    "    DataFrame: of all crimes that belong to the given category that has been specified before including: (location, time, specific crime label, broad crime label)\n",
    "    \"\"\"\n",
    "    def map_loading_disapear():\n",
    "        loading_disapear = wait.until(\n",
    "            EC.invisibility_of_element_located((By.CSS_SELECTOR,\\\n",
    "                '#report-win13 > div.k-loading-mask > div.k-loading-image')))\n",
    "\n",
    "\n",
    "    def make_all_disapear():\n",
    "        circles = wait.until(\n",
    "            EC.presence_of_all_elements_located((By.CSS_SELECTOR,\\\n",
    "                    '#report-win13 > div.window-content > div.full-height > div > div.full-height.k-map > div.km-widget.km-scroll-wrapper > div.km-scroll-container > div:nth-child(4) > svg > circle')))\n",
    "        \n",
    "        driver.execute_script(\"var all_circles = document.getElementsByTagName('circle');\\\n",
    "                            for (i = 0; i < all_circles.length; i++){all_circles[i].style.visibility = 'hidden'};\")\n",
    "\n",
    "        \n",
    "\n",
    "    try:\n",
    "        ########\n",
    "        \n",
    "        total_year_to_date_2022.click()\n",
    "\n",
    "        ########\n",
    "\n",
    "\n",
    "        map_loading_disapear()\n",
    "        toggle_large_map.click()\n",
    "        tm.sleep(0.2)\n",
    "        zoom_out.click()\n",
    "        moveOnMap(\"moveRight\", 72)\n",
    "        webdriver.ActionChains(driver).move_to_element(first_circle).click(first_circle).perform()\n",
    "        #moveOnMap(\"moveRight\", 70)\n",
    "\n",
    "        circles = wait.until(\n",
    "            EC.presence_of_all_elements_located((By.CSS_SELECTOR, '#report-win13 > div.window-content > div.full-height > div > div.full-height.k-map > div.km-widget.km-scroll-wrapper > div.km-scroll-container > div:nth-child(4) > svg > circle'))\n",
    "        )                                                          \n",
    "\n",
    "        print(\"number of circles: \", len(circles)) if verbose else None\n",
    "\n",
    "        global data_frame\n",
    "        data_frame = pd.DataFrame(columns=[\"x_cord\",\"y_cord\",\"time\",\"crime\",\"crime_category\"])\n",
    "        loop_crime_counter = 0\n",
    "        text_crime_counter = 0\n",
    "\n",
    "        make_all_disapear()\n",
    "        \n",
    "        for i in tqdm(range(len(circles))):\n",
    "\n",
    "            \n",
    "\n",
    "            print(\"circle number: \", i) if verbose else None\n",
    "            \n",
    "            driver.execute_script(f\"var all_circles = document.getElementsByTagName('circle');\\\n",
    "                                    all_circles[{i}].style.visibility = 'visible';\")\n",
    "\n",
    "            given_circle = wait.until(\n",
    "                EC.presence_of_element_located((By.CSS_SELECTOR, f'#report-win13 > div.window-content > div.full-height > div > div.full-height.k-map > div.km-widget.km-scroll-wrapper > div.km-scroll-container > div:nth-child(4) > svg > circle:nth-child({i+2})'))\n",
    "            )\n",
    "\n",
    "            webdriver.ActionChains(driver).move_to_element(given_circle).click(given_circle).perform()\n",
    "\n",
    "            y_coordinate = given_circle.get_attribute(\"cy\")\n",
    "            x_coordinate = given_circle.get_attribute(\"cx\")\n",
    "\n",
    "            information_box = wait.until(\n",
    "                EC.presence_of_element_located((By.ID, \"map-popup-13\")))\n",
    "\n",
    "            print() if verbose else None\n",
    "            print() if verbose else None\n",
    "            print(\"------COORDINATES------\") if verbose else None\n",
    "            print(i, given_circle.get_attribute(\"outerHTML\")) if verbose else None\n",
    "            print() if verbose else None\n",
    "            print(\"y_coordinate: \", y_coordinate) if verbose else None\n",
    "            print(\"x_coordinate: \", x_coordinate) if verbose else None\n",
    "\n",
    "            try:\n",
    "                #if there is a h6 header in the informationbox then there are multiple crimes at the same location\n",
    "                h6_header = information_box.find_element(By.TAG_NAME, \"h6\")\n",
    "\n",
    "            except:\n",
    "                h6_header = False\n",
    "\n",
    "            if h6_header:\n",
    "                n_of_crimes = int(re.findall(r'-?\\d+\\.?\\d*', h6_header.get_attribute(\"innerHTML\"))[0])\n",
    "                text_crime_counter += n_of_crimes\n",
    "\n",
    "                multi_crime_element = information_box.find_elements(By.XPATH, '//div[@style=\"border-bottom: 1px solid gray;\"]')\n",
    "                \n",
    "                for j, element in enumerate(multi_crime_element):\n",
    "                    loop_crime_counter += 1\n",
    "                    print(element.get_attribute(\"innerHTML\")) if verbose else None\n",
    "                    t = 0\n",
    "                    tm.sleep(0.2)\n",
    "                    \n",
    "                    crime_label_HTML = wait.until(EC.presence_of_element_located((By.CSS_SELECTOR,f'#map-popup-13 > div > div:nth-child({j+2}) > div:nth-child({t+1}) > span')))\n",
    "                    \n",
    "                    \n",
    "                    if len(crime_label_HTML.get_attribute(\"title\"))>0:\n",
    "                        crime_label = crime_label_HTML.get_attribute(\"title\") \n",
    "                    else:\n",
    "                        crime_label = crime_label_HTML.text\n",
    "            \n",
    "                    print(crime_label) if verbose else None\n",
    "\n",
    "                    crime_category_label_HTML = wait.until(EC.presence_of_element_located((By.CSS_SELECTOR, '#map-popup-13 > div > div:nth-child(1) > h5')))\n",
    "                    crime_category_label = crime_category_label_HTML.text\n",
    "                    \n",
    "                    date_time_label_HTML = wait.until(EC.presence_of_element_located((By.CSS_SELECTOR,f\"#map-popup-13 > div > div:nth-child({j+2}) > div:nth-child({t+2}) > span\")))\n",
    "                    date_time_label = date_time_label_HTML.text\n",
    "\n",
    "                    data_frame.loc[loop_crime_counter] = pd.Series({\"x_cord\":x_coordinate,\"y_cord\":y_coordinate,\"time\":date_time_label,\"crime\":crime_label, \"crime_category\":crime_category_label})\n",
    "                    print(loop_crime_counter) if verbose else None\n",
    "\n",
    "            else:\n",
    "                print(\"single crime: ----> \") if verbose else None\n",
    "                loop_crime_counter += 1\n",
    "                text_crime_counter += 1\n",
    "\n",
    "                tm.sleep(0.2)\n",
    "                crime_label_HTML = wait.until(EC.presence_of_element_located((By.CSS_SELECTOR,'#map-popup-13 > div > div:nth-child(2) > div:nth-child(1) > span')))\n",
    "\n",
    "                print(\"thats what I'm looking for: \", crime_label_HTML.text) if verbose else None\n",
    "\n",
    "\n",
    "                if len(crime_label_HTML.get_attribute(\"title\"))>0:\n",
    "                    crime_label = crime_label_HTML.get_attribute(\"title\") \n",
    "                else:\n",
    "                    crime_label = crime_label_HTML.text\n",
    "\n",
    "                crime_category_label_HTML = wait.until(EC.presence_of_element_located((By.CSS_SELECTOR, '#map-popup-13 > div > div:nth-child(1) > h5')))\n",
    "                crime_category_label = crime_category_label_HTML.text\n",
    "\n",
    "                print(crime_label) if verbose else None\n",
    "\n",
    "                date_time_label_HTML = wait.until(EC.presence_of_element_located((By.CSS_SELECTOR,'#map-popup-13 > div > div:nth-child(2) > div:nth-child(2) > span')))\n",
    "                date_time_label = date_time_label_HTML.text\n",
    "\n",
    "                data_frame.loc[loop_crime_counter] = pd.Series({\"x_cord\":x_coordinate,\"y_cord\":y_coordinate,\"time\":date_time_label,\"crime\":crime_label, \"crime_category\":crime_category_label})\n",
    "\n",
    "\n",
    "                print(\"loop_crime_counter: \", loop_crime_counter) if verbose else None\n",
    "                print(\"text_crime_counter: \", text_crime_counter) if verbose else None\n",
    "                \n",
    "            print() if verbose else None\n",
    "            print() if verbose else None\n",
    "            print(\"------ATTRIBUTES------\") if verbose else None\n",
    "            print(information_box.get_attribute(\"innerHTML\")) if verbose else None\n",
    "            print() if verbose else None\n",
    "            print() if verbose else None\n",
    "\n",
    "            driver.execute_script(f\"var all_circles = document.getElementsByTagName('circle');\\\n",
    "                                    all_circles[{i}].style.visibility = 'hidden';\")\n",
    "            \n",
    "            incident_map_logo.click()\n",
    "\n",
    "    finally:\n",
    "        print(\"complete\")\n",
    "        driver.quit()"
   ]
  },
  {
   "cell_type": "markdown",
   "metadata": {},
   "source": [
    "executing all three function together"
   ]
  },
  {
   "cell_type": "code",
   "execution_count": 37,
   "metadata": {},
   "outputs": [
    {
     "name": "stdout",
     "output_type": "stream",
     "text": [
      "\n"
     ]
    },
    {
     "name": "stderr",
     "output_type": "stream",
     "text": [
      "[WDM] - ====== WebDriver manager ======\n",
      "[WDM] - Current google-chrome version is 103.0.5060\n",
      "[WDM] - Get LATEST chromedriver version for 103.0.5060 google-chrome\n",
      "[WDM] - About to download new driver from https://chromedriver.storage.googleapis.com/103.0.5060.53/chromedriver_mac64_m1.zip\n",
      "[WDM] - Driver has been saved in cache [/Users/suntim/.wdm/drivers/chromedriver/mac64_m1/103.0.5060.53]\n"
     ]
    },
    {
     "name": "stdout",
     "output_type": "stream",
     "text": [
      "loading of Elements has finished\n"
     ]
    },
    {
     "name": "stderr",
     "output_type": "stream",
     "text": [
      " 87%|████████▋ | 22848/26170 [12:35:07<1:49:47,  1.98s/it]\n"
     ]
    },
    {
     "name": "stdout",
     "output_type": "stream",
     "text": [
      "complete\n"
     ]
    },
    {
     "ename": "WebDriverException",
     "evalue": "Message: disconnected: unable to send message to renderer\n  (Session info: chrome=103.0.5060.53)\nStacktrace:\n0   chromedriver                        0x0000000102c11d14 chromedriver + 3792148\n1   chromedriver                        0x0000000102ba8828 chromedriver + 3360808\n2   chromedriver                        0x00000001028a90b8 chromedriver + 217272\n3   chromedriver                        0x0000000102895e3c chromedriver + 138812\n4   chromedriver                        0x00000001028963d0 chromedriver + 140240\n5   chromedriver                        0x00000001028ad6f8 chromedriver + 235256\n6   chromedriver                        0x0000000102909e10 chromedriver + 613904\n7   chromedriver                        0x0000000102901a60 chromedriver + 580192\n8   chromedriver                        0x00000001028ce318 chromedriver + 369432\n9   chromedriver                        0x0000000102be71e8 chromedriver + 3617256\n10  chromedriver                        0x0000000102beb678 chromedriver + 3634808\n11  chromedriver                        0x0000000102befc6c chromedriver + 3652716\n12  chromedriver                        0x0000000102bec110 chromedriver + 3637520\n13  chromedriver                        0x0000000102bca7ac chromedriver + 3499948\n14  chromedriver                        0x0000000102c03bf0 chromedriver + 3734512\n15  chromedriver                        0x0000000102c03d54 chromedriver + 3734868\n16  chromedriver                        0x0000000102c18558 chromedriver + 3818840\n17  libsystem_pthread.dylib             0x0000000195299240 _pthread_start + 148\n18  libsystem_pthread.dylib             0x0000000195294024 thread_start + 8\n",
     "output_type": "error",
     "traceback": [
      "\u001b[0;31m---------------------------------------------------------------------------\u001b[0m",
      "\u001b[0;31mWebDriverException\u001b[0m                        Traceback (most recent call last)",
      "\u001b[1;32m/Users/suntim/Documents/Programming/Machine Learning/NYC Crime/JavaScript Implementation.ipynb Cell 19'\u001b[0m in \u001b[0;36m<cell line: 3>\u001b[0;34m()\u001b[0m\n\u001b[1;32m      <a href='vscode-notebook-cell:/Users/suntim/Documents/Programming/Machine%20Learning/NYC%20Crime/JavaScript%20Implementation.ipynb#ch0000018?line=0'>1</a>\u001b[0m settingUpChrome()\n\u001b[1;32m      <a href='vscode-notebook-cell:/Users/suntim/Documents/Programming/Machine%20Learning/NYC%20Crime/JavaScript%20Implementation.ipynb#ch0000018?line=1'>2</a>\u001b[0m loadElementsOnSite()\n\u001b[0;32m----> <a href='vscode-notebook-cell:/Users/suntim/Documents/Programming/Machine%20Learning/NYC%20Crime/JavaScript%20Implementation.ipynb#ch0000018?line=2'>3</a>\u001b[0m selectDataOfChategory(verbose\u001b[39m=\u001b[39;49m\u001b[39mFalse\u001b[39;49;00m)\n",
      "\u001b[1;32m/Users/suntim/Documents/Programming/Machine Learning/NYC Crime/JavaScript Implementation.ipynb Cell 17'\u001b[0m in \u001b[0;36mselectDataOfChategory\u001b[0;34m(verbose)\u001b[0m\n\u001b[1;32m     <a href='vscode-notebook-cell:/Users/suntim/Documents/Programming/Machine%20Learning/NYC%20Crime/JavaScript%20Implementation.ipynb#ch0000016?line=59'>60</a>\u001b[0m driver\u001b[39m.\u001b[39mexecute_script(\u001b[39mf\u001b[39m\u001b[39m\"\u001b[39m\u001b[39mvar all_circles = document.getElementsByTagName(\u001b[39m\u001b[39m'\u001b[39m\u001b[39mcircle\u001b[39m\u001b[39m'\u001b[39m\u001b[39m);\u001b[39m\u001b[39m\\\u001b[39;00m\n\u001b[1;32m     <a href='vscode-notebook-cell:/Users/suntim/Documents/Programming/Machine%20Learning/NYC%20Crime/JavaScript%20Implementation.ipynb#ch0000016?line=60'>61</a>\u001b[0m \u001b[39m                        all_circles[\u001b[39m\u001b[39m{\u001b[39;00mi\u001b[39m}\u001b[39;00m\u001b[39m].style.visibility = \u001b[39m\u001b[39m'\u001b[39m\u001b[39mvisible\u001b[39m\u001b[39m'\u001b[39m\u001b[39m;\u001b[39m\u001b[39m\"\u001b[39m)\n\u001b[1;32m     <a href='vscode-notebook-cell:/Users/suntim/Documents/Programming/Machine%20Learning/NYC%20Crime/JavaScript%20Implementation.ipynb#ch0000016?line=62'>63</a>\u001b[0m given_circle \u001b[39m=\u001b[39m wait\u001b[39m.\u001b[39muntil(\n\u001b[1;32m     <a href='vscode-notebook-cell:/Users/suntim/Documents/Programming/Machine%20Learning/NYC%20Crime/JavaScript%20Implementation.ipynb#ch0000016?line=63'>64</a>\u001b[0m     EC\u001b[39m.\u001b[39mpresence_of_element_located((By\u001b[39m.\u001b[39mCSS_SELECTOR, \u001b[39mf\u001b[39m\u001b[39m'\u001b[39m\u001b[39m#report-win13 > div.window-content > div.full-height > div > div.full-height.k-map > div.km-widget.km-scroll-wrapper > div.km-scroll-container > div:nth-child(4) > svg > circle:nth-child(\u001b[39m\u001b[39m{\u001b[39;00mi\u001b[39m+\u001b[39m\u001b[39m2\u001b[39m\u001b[39m}\u001b[39;00m\u001b[39m)\u001b[39m\u001b[39m'\u001b[39m))\n\u001b[1;32m     <a href='vscode-notebook-cell:/Users/suntim/Documents/Programming/Machine%20Learning/NYC%20Crime/JavaScript%20Implementation.ipynb#ch0000016?line=64'>65</a>\u001b[0m )\n\u001b[0;32m---> <a href='vscode-notebook-cell:/Users/suntim/Documents/Programming/Machine%20Learning/NYC%20Crime/JavaScript%20Implementation.ipynb#ch0000016?line=66'>67</a>\u001b[0m webdriver\u001b[39m.\u001b[39;49mActionChains(driver)\u001b[39m.\u001b[39;49mmove_to_element(given_circle)\u001b[39m.\u001b[39;49mclick(given_circle)\u001b[39m.\u001b[39;49mperform()\n\u001b[1;32m     <a href='vscode-notebook-cell:/Users/suntim/Documents/Programming/Machine%20Learning/NYC%20Crime/JavaScript%20Implementation.ipynb#ch0000016?line=68'>69</a>\u001b[0m y_coordinate \u001b[39m=\u001b[39m given_circle\u001b[39m.\u001b[39mget_attribute(\u001b[39m\"\u001b[39m\u001b[39mcy\u001b[39m\u001b[39m\"\u001b[39m)\n\u001b[1;32m     <a href='vscode-notebook-cell:/Users/suntim/Documents/Programming/Machine%20Learning/NYC%20Crime/JavaScript%20Implementation.ipynb#ch0000016?line=69'>70</a>\u001b[0m x_coordinate \u001b[39m=\u001b[39m given_circle\u001b[39m.\u001b[39mget_attribute(\u001b[39m\"\u001b[39m\u001b[39mcx\u001b[39m\u001b[39m\"\u001b[39m)\n",
      "File \u001b[0;32m~/opt/miniconda3/envs/python3.10.4/lib/python3.10/site-packages/selenium/webdriver/common/action_chains.py:78\u001b[0m, in \u001b[0;36mActionChains.perform\u001b[0;34m(self)\u001b[0m\n\u001b[1;32m     74\u001b[0m \u001b[39mdef\u001b[39;00m \u001b[39mperform\u001b[39m(\u001b[39mself\u001b[39m):\n\u001b[1;32m     75\u001b[0m     \u001b[39m\"\"\"\u001b[39;00m\n\u001b[1;32m     76\u001b[0m \u001b[39m    Performs all stored actions.\u001b[39;00m\n\u001b[1;32m     77\u001b[0m \u001b[39m    \"\"\"\u001b[39;00m\n\u001b[0;32m---> 78\u001b[0m     \u001b[39mself\u001b[39;49m\u001b[39m.\u001b[39;49mw3c_actions\u001b[39m.\u001b[39;49mperform()\n",
      "File \u001b[0;32m~/opt/miniconda3/envs/python3.10.4/lib/python3.10/site-packages/selenium/webdriver/common/actions/action_builder.py:88\u001b[0m, in \u001b[0;36mActionBuilder.perform\u001b[0;34m(self)\u001b[0m\n\u001b[1;32m     86\u001b[0m         enc[\u001b[39m\"\u001b[39m\u001b[39mactions\u001b[39m\u001b[39m\"\u001b[39m]\u001b[39m.\u001b[39mappend(encoded)\n\u001b[1;32m     87\u001b[0m         device\u001b[39m.\u001b[39mactions \u001b[39m=\u001b[39m []\n\u001b[0;32m---> 88\u001b[0m \u001b[39mself\u001b[39;49m\u001b[39m.\u001b[39;49mdriver\u001b[39m.\u001b[39;49mexecute(Command\u001b[39m.\u001b[39;49mW3C_ACTIONS, enc)\n",
      "File \u001b[0;32m~/opt/miniconda3/envs/python3.10.4/lib/python3.10/site-packages/selenium/webdriver/remote/webdriver.py:435\u001b[0m, in \u001b[0;36mWebDriver.execute\u001b[0;34m(self, driver_command, params)\u001b[0m\n\u001b[1;32m    433\u001b[0m response \u001b[39m=\u001b[39m \u001b[39mself\u001b[39m\u001b[39m.\u001b[39mcommand_executor\u001b[39m.\u001b[39mexecute(driver_command, params)\n\u001b[1;32m    434\u001b[0m \u001b[39mif\u001b[39;00m response:\n\u001b[0;32m--> 435\u001b[0m     \u001b[39mself\u001b[39;49m\u001b[39m.\u001b[39;49merror_handler\u001b[39m.\u001b[39;49mcheck_response(response)\n\u001b[1;32m    436\u001b[0m     response[\u001b[39m'\u001b[39m\u001b[39mvalue\u001b[39m\u001b[39m'\u001b[39m] \u001b[39m=\u001b[39m \u001b[39mself\u001b[39m\u001b[39m.\u001b[39m_unwrap_value(\n\u001b[1;32m    437\u001b[0m         response\u001b[39m.\u001b[39mget(\u001b[39m'\u001b[39m\u001b[39mvalue\u001b[39m\u001b[39m'\u001b[39m, \u001b[39mNone\u001b[39;00m))\n\u001b[1;32m    438\u001b[0m     \u001b[39mreturn\u001b[39;00m response\n",
      "File \u001b[0;32m~/opt/miniconda3/envs/python3.10.4/lib/python3.10/site-packages/selenium/webdriver/remote/errorhandler.py:247\u001b[0m, in \u001b[0;36mErrorHandler.check_response\u001b[0;34m(self, response)\u001b[0m\n\u001b[1;32m    245\u001b[0m         alert_text \u001b[39m=\u001b[39m value[\u001b[39m'\u001b[39m\u001b[39malert\u001b[39m\u001b[39m'\u001b[39m]\u001b[39m.\u001b[39mget(\u001b[39m'\u001b[39m\u001b[39mtext\u001b[39m\u001b[39m'\u001b[39m)\n\u001b[1;32m    246\u001b[0m     \u001b[39mraise\u001b[39;00m exception_class(message, screen, stacktrace, alert_text)  \u001b[39m# type: ignore[call-arg]  # mypy is not smart enough here\u001b[39;00m\n\u001b[0;32m--> 247\u001b[0m \u001b[39mraise\u001b[39;00m exception_class(message, screen, stacktrace)\n",
      "\u001b[0;31mWebDriverException\u001b[0m: Message: disconnected: unable to send message to renderer\n  (Session info: chrome=103.0.5060.53)\nStacktrace:\n0   chromedriver                        0x0000000102c11d14 chromedriver + 3792148\n1   chromedriver                        0x0000000102ba8828 chromedriver + 3360808\n2   chromedriver                        0x00000001028a90b8 chromedriver + 217272\n3   chromedriver                        0x0000000102895e3c chromedriver + 138812\n4   chromedriver                        0x00000001028963d0 chromedriver + 140240\n5   chromedriver                        0x00000001028ad6f8 chromedriver + 235256\n6   chromedriver                        0x0000000102909e10 chromedriver + 613904\n7   chromedriver                        0x0000000102901a60 chromedriver + 580192\n8   chromedriver                        0x00000001028ce318 chromedriver + 369432\n9   chromedriver                        0x0000000102be71e8 chromedriver + 3617256\n10  chromedriver                        0x0000000102beb678 chromedriver + 3634808\n11  chromedriver                        0x0000000102befc6c chromedriver + 3652716\n12  chromedriver                        0x0000000102bec110 chromedriver + 3637520\n13  chromedriver                        0x0000000102bca7ac chromedriver + 3499948\n14  chromedriver                        0x0000000102c03bf0 chromedriver + 3734512\n15  chromedriver                        0x0000000102c03d54 chromedriver + 3734868\n16  chromedriver                        0x0000000102c18558 chromedriver + 3818840\n17  libsystem_pthread.dylib             0x0000000195299240 _pthread_start + 148\n18  libsystem_pthread.dylib             0x0000000195294024 thread_start + 8\n"
     ]
    }
   ],
   "source": [
    "settingUpChrome()\n",
    "loadElementsOnSite()\n",
    "selectDataOfChategory(verbose=False)"
   ]
  },
  {
   "cell_type": "code",
   "execution_count": 34,
   "metadata": {},
   "outputs": [
    {
     "name": "stderr",
     "output_type": "stream",
     "text": [
      "/var/folders/t5/897mfw654t12zzv623vx_9r80000gn/T/ipykernel_19711/1547930017.py:1: DeprecationWarning: Importing display from IPython.core.display is deprecated since IPython 7.14, please import from IPython display\n",
      "  from IPython.core.display import display\n"
     ]
    }
   ],
   "source": [
    "from IPython.core.display import display \n",
    " \n",
    "pd.set_option(\"display.max_rows\", None)\n",
    "\n",
    "\n",
    "def display_():    \n",
    "    pd.set_option(\"display.max_rows\", None)"
   ]
  },
  {
   "cell_type": "code",
   "execution_count": null,
   "metadata": {},
   "outputs": [],
   "source": [
    "display(data_frame)"
   ]
  },
  {
   "cell_type": "code",
   "execution_count": 39,
   "metadata": {},
   "outputs": [
    {
     "data": {
      "text/html": [
       "<div>\n",
       "<style scoped>\n",
       "    .dataframe tbody tr th:only-of-type {\n",
       "        vertical-align: middle;\n",
       "    }\n",
       "\n",
       "    .dataframe tbody tr th {\n",
       "        vertical-align: top;\n",
       "    }\n",
       "\n",
       "    .dataframe thead th {\n",
       "        text-align: right;\n",
       "    }\n",
       "</style>\n",
       "<table border=\"1\" class=\"dataframe\">\n",
       "  <thead>\n",
       "    <tr style=\"text-align: right;\">\n",
       "      <th></th>\n",
       "      <th>x_cord</th>\n",
       "      <th>y_cord</th>\n",
       "      <th>time</th>\n",
       "      <th>crime</th>\n",
       "      <th>crime_category</th>\n",
       "    </tr>\n",
       "  </thead>\n",
       "  <tbody>\n",
       "    <tr>\n",
       "      <th>1</th>\n",
       "      <td>832.2644612831646</td>\n",
       "      <td>403.5159037694975</td>\n",
       "      <td>06/25/22 6PM</td>\n",
       "      <td>1,UNCLASSIFIED</td>\n",
       "      <td>Robbery</td>\n",
       "    </tr>\n",
       "    <tr>\n",
       "      <th>2</th>\n",
       "      <td>832.2644612831646</td>\n",
       "      <td>403.5159037694975</td>\n",
       "      <td>06/25/22 12PM</td>\n",
       "      <td>COMMERCIAL,DAY</td>\n",
       "      <td>Robbery</td>\n",
       "    </tr>\n",
       "    <tr>\n",
       "      <th>3</th>\n",
       "      <td>832.2644612831646</td>\n",
       "      <td>403.5159037694975</td>\n",
       "      <td>06/24/22 7AM</td>\n",
       "      <td>BEGIN AS SHOPLIFTING</td>\n",
       "      <td>Robbery</td>\n",
       "    </tr>\n",
       "    <tr>\n",
       "      <th>4</th>\n",
       "      <td>832.2644612831646</td>\n",
       "      <td>403.5159037694975</td>\n",
       "      <td>06/23/22 5PM</td>\n",
       "      <td>GRAND FROM RETAIL STORE, UNATTENDED</td>\n",
       "      <td>Robbery</td>\n",
       "    </tr>\n",
       "    <tr>\n",
       "      <th>5</th>\n",
       "      <td>832.2644612831646</td>\n",
       "      <td>403.5159037694975</td>\n",
       "      <td>06/21/22 6PM</td>\n",
       "      <td>GRAND FROM STORE-SHOPL</td>\n",
       "      <td>Robbery</td>\n",
       "    </tr>\n",
       "  </tbody>\n",
       "</table>\n",
       "</div>"
      ],
      "text/plain": [
       "              x_cord             y_cord           time  \\\n",
       "1  832.2644612831646  403.5159037694975   06/25/22 6PM   \n",
       "2  832.2644612831646  403.5159037694975  06/25/22 12PM   \n",
       "3  832.2644612831646  403.5159037694975   06/24/22 7AM   \n",
       "4  832.2644612831646  403.5159037694975   06/23/22 5PM   \n",
       "5  832.2644612831646  403.5159037694975   06/21/22 6PM   \n",
       "\n",
       "                                 crime crime_category  \n",
       "1                       1,UNCLASSIFIED        Robbery  \n",
       "2                       COMMERCIAL,DAY        Robbery  \n",
       "3                 BEGIN AS SHOPLIFTING        Robbery  \n",
       "4  GRAND FROM RETAIL STORE, UNATTENDED        Robbery  \n",
       "5               GRAND FROM STORE-SHOPL        Robbery  "
      ]
     },
     "execution_count": 39,
     "metadata": {},
     "output_type": "execute_result"
    }
   ],
   "source": [
    "data_frame.head()"
   ]
  },
  {
   "cell_type": "code",
   "execution_count": 43,
   "metadata": {},
   "outputs": [],
   "source": [
    "data_frame.to_csv('scraped-data/incomplete_total_year_to_date_2022.csv')\n",
    "data_frame.to_excel(\"scraped-data/incomplete_total_year_to_date_2022.xlsx\")"
   ]
  },
  {
   "cell_type": "code",
   "execution_count": 49,
   "metadata": {},
   "outputs": [
    {
     "data": {
      "text/html": [
       "<div>\n",
       "<style scoped>\n",
       "    .dataframe tbody tr th:only-of-type {\n",
       "        vertical-align: middle;\n",
       "    }\n",
       "\n",
       "    .dataframe tbody tr th {\n",
       "        vertical-align: top;\n",
       "    }\n",
       "\n",
       "    .dataframe thead th {\n",
       "        text-align: right;\n",
       "    }\n",
       "</style>\n",
       "<table border=\"1\" class=\"dataframe\">\n",
       "  <thead>\n",
       "    <tr style=\"text-align: right;\">\n",
       "      <th></th>\n",
       "      <th>x_cord</th>\n",
       "      <th>y_cord</th>\n",
       "      <th>time</th>\n",
       "      <th>crime</th>\n",
       "      <th>crime_category</th>\n",
       "    </tr>\n",
       "  </thead>\n",
       "  <tbody>\n",
       "    <tr>\n",
       "      <th>1</th>\n",
       "      <td>832.2644612831646</td>\n",
       "      <td>403.5159037694975</td>\n",
       "      <td>06/25/22 6PM</td>\n",
       "      <td>1,UNCLASSIFIED</td>\n",
       "      <td>Robbery</td>\n",
       "    </tr>\n",
       "    <tr>\n",
       "      <th>2</th>\n",
       "      <td>832.2644612831646</td>\n",
       "      <td>403.5159037694975</td>\n",
       "      <td>06/25/22 12PM</td>\n",
       "      <td>COMMERCIAL,DAY</td>\n",
       "      <td>Robbery</td>\n",
       "    </tr>\n",
       "    <tr>\n",
       "      <th>3</th>\n",
       "      <td>832.2644612831646</td>\n",
       "      <td>403.5159037694975</td>\n",
       "      <td>06/24/22 7AM</td>\n",
       "      <td>BEGIN AS SHOPLIFTING</td>\n",
       "      <td>Robbery</td>\n",
       "    </tr>\n",
       "    <tr>\n",
       "      <th>4</th>\n",
       "      <td>832.2644612831646</td>\n",
       "      <td>403.5159037694975</td>\n",
       "      <td>06/23/22 5PM</td>\n",
       "      <td>GRAND FROM RETAIL STORE, UNATTENDED</td>\n",
       "      <td>Robbery</td>\n",
       "    </tr>\n",
       "    <tr>\n",
       "      <th>5</th>\n",
       "      <td>832.2644612831646</td>\n",
       "      <td>403.5159037694975</td>\n",
       "      <td>06/21/22 6PM</td>\n",
       "      <td>GRAND FROM STORE-SHOPL</td>\n",
       "      <td>Robbery</td>\n",
       "    </tr>\n",
       "  </tbody>\n",
       "</table>\n",
       "</div>"
      ],
      "text/plain": [
       "              x_cord             y_cord           time  \\\n",
       "1  832.2644612831646  403.5159037694975   06/25/22 6PM   \n",
       "2  832.2644612831646  403.5159037694975  06/25/22 12PM   \n",
       "3  832.2644612831646  403.5159037694975   06/24/22 7AM   \n",
       "4  832.2644612831646  403.5159037694975   06/23/22 5PM   \n",
       "5  832.2644612831646  403.5159037694975   06/21/22 6PM   \n",
       "\n",
       "                                 crime crime_category  \n",
       "1                       1,UNCLASSIFIED        Robbery  \n",
       "2                       COMMERCIAL,DAY        Robbery  \n",
       "3                 BEGIN AS SHOPLIFTING        Robbery  \n",
       "4  GRAND FROM RETAIL STORE, UNATTENDED        Robbery  \n",
       "5               GRAND FROM STORE-SHOPL        Robbery  "
      ]
     },
     "execution_count": 49,
     "metadata": {},
     "output_type": "execute_result"
    }
   ],
   "source": [
    "data_frame.head()"
   ]
  },
  {
   "cell_type": "code",
   "execution_count": 2,
   "metadata": {},
   "outputs": [],
   "source": [
    "data_frame = pd.read_csv(\"scraped-data/incomplete_total_year_to_date_2022.csv\")"
   ]
  },
  {
   "cell_type": "code",
   "execution_count": 48,
   "metadata": {},
   "outputs": [
    {
     "data": {
      "text/plain": [
       "array([ 832.26446128,  841.87764585,  841.70288319, ...,  871.28408596,\n",
       "       1000.37209279,  859.42134178])"
      ]
     },
     "execution_count": 48,
     "metadata": {},
     "output_type": "execute_result"
    }
   ],
   "source": [
    "data_frame.x_cord.unique()"
   ]
  },
  {
   "cell_type": "code",
   "execution_count": 59,
   "metadata": {},
   "outputs": [
    {
     "name": "stdout",
     "output_type": "stream",
     "text": [
      "[403.51590377 467.87840414 396.86178166 ... 491.39075174 491.55806266\n",
      " 490.97875994]\n"
     ]
    }
   ],
   "source": [
    "print(data_frame.y_cord.unique())"
   ]
  },
  {
   "cell_type": "code",
   "execution_count": 3,
   "metadata": {},
   "outputs": [],
   "source": [
    "test_data_frame = data_frame"
   ]
  },
  {
   "cell_type": "code",
   "execution_count": 22,
   "metadata": {},
   "outputs": [
    {
     "data": {
      "text/plain": [
       "Index(['Unnamed: 0', 'Longitude', 'Latitude', 'time', 'crime',\n",
       "       'crime_category'],\n",
       "      dtype='object')"
      ]
     },
     "execution_count": 22,
     "metadata": {},
     "output_type": "execute_result"
    }
   ],
   "source": [
    "test_data_frame.columns"
   ]
  },
  {
   "cell_type": "code",
   "execution_count": 4,
   "metadata": {},
   "outputs": [],
   "source": [
    "test_data_frame = test_data_frame.rename(columns={\"x_cord\":\"Longitude\",\"y_cord\":\"Latitude\"})"
   ]
  },
  {
   "cell_type": "code",
   "execution_count": 5,
   "metadata": {},
   "outputs": [],
   "source": [
    "test_data_frame[\"Latitude\"] = test_data_frame[\"Latitude\"].apply(lambda y: -0.001040301*float(y)+41.17080609)\n",
    "test_data_frame[\"Longitude\"] = test_data_frame[\"Longitude\"].apply(lambda x: 0.001373969*float(x)-75.13412029)\n",
    "\n"
   ]
  },
  {
   "cell_type": "code",
   "execution_count": 23,
   "metadata": {},
   "outputs": [],
   "source": [
    "test_data_frame[\"time\"] = test_data_frame[\"time\"].apply(lambda time: datetime.strptime(time, '%m/%d/%y %I%p'))"
   ]
  },
  {
   "cell_type": "code",
   "execution_count": null,
   "metadata": {},
   "outputs": [],
   "source": []
  },
  {
   "cell_type": "code",
   "execution_count": 24,
   "metadata": {},
   "outputs": [
    {
     "data": {
      "text/html": [
       "<div>\n",
       "<style scoped>\n",
       "    .dataframe tbody tr th:only-of-type {\n",
       "        vertical-align: middle;\n",
       "    }\n",
       "\n",
       "    .dataframe tbody tr th {\n",
       "        vertical-align: top;\n",
       "    }\n",
       "\n",
       "    .dataframe thead th {\n",
       "        text-align: right;\n",
       "    }\n",
       "</style>\n",
       "<table border=\"1\" class=\"dataframe\">\n",
       "  <thead>\n",
       "    <tr style=\"text-align: right;\">\n",
       "      <th></th>\n",
       "      <th>Unnamed: 0</th>\n",
       "      <th>Longitude</th>\n",
       "      <th>Latitude</th>\n",
       "      <th>time</th>\n",
       "      <th>crime</th>\n",
       "      <th>crime_category</th>\n",
       "    </tr>\n",
       "  </thead>\n",
       "  <tbody>\n",
       "    <tr>\n",
       "      <th>0</th>\n",
       "      <td>1</td>\n",
       "      <td>-73.990615</td>\n",
       "      <td>40.751028</td>\n",
       "      <td>2022-06-25 18:00:00</td>\n",
       "      <td>1,UNCLASSIFIED</td>\n",
       "      <td>Robbery</td>\n",
       "    </tr>\n",
       "    <tr>\n",
       "      <th>1</th>\n",
       "      <td>2</td>\n",
       "      <td>-73.990615</td>\n",
       "      <td>40.751028</td>\n",
       "      <td>2022-06-25 12:00:00</td>\n",
       "      <td>COMMERCIAL,DAY</td>\n",
       "      <td>Robbery</td>\n",
       "    </tr>\n",
       "    <tr>\n",
       "      <th>2</th>\n",
       "      <td>3</td>\n",
       "      <td>-73.990615</td>\n",
       "      <td>40.751028</td>\n",
       "      <td>2022-06-24 07:00:00</td>\n",
       "      <td>BEGIN AS SHOPLIFTING</td>\n",
       "      <td>Robbery</td>\n",
       "    </tr>\n",
       "  </tbody>\n",
       "</table>\n",
       "</div>"
      ],
      "text/plain": [
       "   Unnamed: 0  Longitude   Latitude                time                 crime  \\\n",
       "0           1 -73.990615  40.751028 2022-06-25 18:00:00        1,UNCLASSIFIED   \n",
       "1           2 -73.990615  40.751028 2022-06-25 12:00:00        COMMERCIAL,DAY   \n",
       "2           3 -73.990615  40.751028 2022-06-24 07:00:00  BEGIN AS SHOPLIFTING   \n",
       "\n",
       "  crime_category  \n",
       "0        Robbery  \n",
       "1        Robbery  \n",
       "2        Robbery  "
      ]
     },
     "execution_count": 24,
     "metadata": {},
     "output_type": "execute_result"
    }
   ],
   "source": [
    "test_data_frame.head(3)"
   ]
  },
  {
   "cell_type": "code",
   "execution_count": 26,
   "metadata": {},
   "outputs": [],
   "source": [
    "map_2.add_data(data=test_data_frame,name=\"test_data_frame\")"
   ]
  },
  {
   "cell_type": "code",
   "execution_count": 28,
   "metadata": {},
   "outputs": [],
   "source": [
    "test_data_frame.to_json(\"scraped-data/long_lat_incomplete_total_year_to_date_2022\")\n",
    "test_data_frame.to_csv(\"scraped-data/long_lat_incomplete_total_year_to_date_2022.csv\")"
   ]
  },
  {
   "cell_type": "code",
   "execution_count": 118,
   "metadata": {},
   "outputs": [
    {
     "name": "stdout",
     "output_type": "stream",
     "text": [
      "/Users/suntim/opt/miniconda3/envs/python3.10.4/bin/pip\n"
     ]
    }
   ],
   "source": [
    "!which pip"
   ]
  },
  {
   "cell_type": "code",
   "execution_count": 6,
   "metadata": {},
   "outputs": [],
   "source": [
    "custom_config = {\n",
    "  \"version\": \"v1\",\n",
    "  \"config\": {\n",
    "    \"visState\": {\n",
    "      \"filters\": [],\n",
    "      \"layers\": [],\n",
    "      \"interactionConfig\": {}\n",
    "    },\n",
    "    \"mapState\": {\n",
    "      \"bearing\": -4.928571428571431,\n",
    "      \"dragRotate\": True,\n",
    "      \"latitude\": 40.75101599999,\n",
    "      \"longitude\": -73.9352420000,\n",
    "      #\"pitch\": 49.18440507924836,\n",
    "      \"zoom\": 12,\n",
    "      \"isSplit\": False\n",
    "    },\n",
    "    \"mapStyle\": {\n",
    "      \"styleType\": \"dark\",\n",
    "      \"topLayerGroups\": {},\n",
    "      \"visibleLayerGroups\": {\n",
    "        \"label\": True,\n",
    "        \"road\": True,\n",
    "        \"border\": True,\n",
    "        \"building\": True,\n",
    "        \"water\": True,\n",
    "        \"land\": True\n",
    "      }\n",
    "    }\n",
    "  }\n",
    "}"
   ]
  },
  {
   "cell_type": "code",
   "execution_count": 20,
   "metadata": {},
   "outputs": [
    {
     "name": "stdout",
     "output_type": "stream",
     "text": [
      "The type of the date is now <class 'datetime.datetime'>\n",
      "The date is 2022-02-14 22:00:00\n"
     ]
    }
   ],
   "source": [
    "date_time_str = '02/14/22 10PM'\n",
    "\n",
    "date_time_obj = datetime.strptime(date_time_str, '%m/%d/%y %I%p')\n",
    "\n",
    "\n",
    "print (\"The type of the date is now\",  type(date_time_obj))\n",
    "print (\"The date is\", date_time_obj)"
   ]
  },
  {
   "cell_type": "code",
   "execution_count": 25,
   "metadata": {},
   "outputs": [
    {
     "name": "stdout",
     "output_type": "stream",
     "text": [
      "User Guide: https://docs.kepler.gl/docs/keplergl-jupyter\n"
     ]
    },
    {
     "data": {
      "application/vnd.jupyter.widget-view+json": {
       "model_id": "8d07f7703a874796a299620d047fa65a",
       "version_major": 2,
       "version_minor": 0
      },
      "text/plain": [
       "KeplerGl(config={'version': 'v1', 'config': {'visState': {'filters': [], 'layers': [], 'interactionConfig': {}…"
      ]
     },
     "metadata": {},
     "output_type": "display_data"
    }
   ],
   "source": [
    "from keplergl import KeplerGl\n",
    "map_2 = KeplerGl(height=800,config=custom_config)\n",
    "map_2"
   ]
  },
  {
   "cell_type": "code",
   "execution_count": 52,
   "metadata": {},
   "outputs": [
    {
     "data": {
      "text/plain": [
       "array([-73.99062892, -73.97742229, -73.97766238, ..., -73.93702364,\n",
       "       -73.75968215, -73.95332071])"
      ]
     },
     "execution_count": 52,
     "metadata": {},
     "output_type": "execute_result"
    }
   ],
   "source": [
    "test_data_frame.Longitude.unique()"
   ]
  },
  {
   "cell_type": "code",
   "execution_count": 65,
   "metadata": {},
   "outputs": [
    {
     "data": {
      "text/html": [
       "<div>\n",
       "<style scoped>\n",
       "    .dataframe tbody tr th:only-of-type {\n",
       "        vertical-align: middle;\n",
       "    }\n",
       "\n",
       "    .dataframe tbody tr th {\n",
       "        vertical-align: top;\n",
       "    }\n",
       "\n",
       "    .dataframe thead th {\n",
       "        text-align: right;\n",
       "    }\n",
       "</style>\n",
       "<table border=\"1\" class=\"dataframe\">\n",
       "  <thead>\n",
       "    <tr style=\"text-align: right;\">\n",
       "      <th></th>\n",
       "      <th>Unnamed: 0</th>\n",
       "      <th>Longitude</th>\n",
       "      <th>Latitude</th>\n",
       "      <th>time</th>\n",
       "      <th>crime</th>\n",
       "      <th>crime_category</th>\n",
       "    </tr>\n",
       "  </thead>\n",
       "  <tbody>\n",
       "    <tr>\n",
       "      <th>0</th>\n",
       "      <td>1</td>\n",
       "      <td>-75.235781</td>\n",
       "      <td>41.128413</td>\n",
       "      <td>06/25/22 6PM</td>\n",
       "      <td>1,UNCLASSIFIED</td>\n",
       "      <td>Robbery</td>\n",
       "    </tr>\n",
       "    <tr>\n",
       "      <th>1</th>\n",
       "      <td>2</td>\n",
       "      <td>-75.235781</td>\n",
       "      <td>41.128413</td>\n",
       "      <td>06/25/22 12PM</td>\n",
       "      <td>COMMERCIAL,DAY</td>\n",
       "      <td>Robbery</td>\n",
       "    </tr>\n",
       "    <tr>\n",
       "      <th>2</th>\n",
       "      <td>3</td>\n",
       "      <td>-75.235781</td>\n",
       "      <td>41.128413</td>\n",
       "      <td>06/24/22 7AM</td>\n",
       "      <td>BEGIN AS SHOPLIFTING</td>\n",
       "      <td>Robbery</td>\n",
       "    </tr>\n",
       "    <tr>\n",
       "      <th>3</th>\n",
       "      <td>4</td>\n",
       "      <td>-75.235781</td>\n",
       "      <td>41.128413</td>\n",
       "      <td>06/23/22 5PM</td>\n",
       "      <td>GRAND FROM RETAIL STORE, UNATTENDED</td>\n",
       "      <td>Robbery</td>\n",
       "    </tr>\n",
       "    <tr>\n",
       "      <th>4</th>\n",
       "      <td>5</td>\n",
       "      <td>-75.235781</td>\n",
       "      <td>41.128413</td>\n",
       "      <td>06/21/22 6PM</td>\n",
       "      <td>GRAND FROM STORE-SHOPL</td>\n",
       "      <td>Robbery</td>\n",
       "    </tr>\n",
       "  </tbody>\n",
       "</table>\n",
       "</div>"
      ],
      "text/plain": [
       "   Unnamed: 0  Longitude   Latitude           time  \\\n",
       "0           1 -75.235781  41.128413   06/25/22 6PM   \n",
       "1           2 -75.235781  41.128413  06/25/22 12PM   \n",
       "2           3 -75.235781  41.128413   06/24/22 7AM   \n",
       "3           4 -75.235781  41.128413   06/23/22 5PM   \n",
       "4           5 -75.235781  41.128413   06/21/22 6PM   \n",
       "\n",
       "                                 crime crime_category  \n",
       "0                       1,UNCLASSIFIED        Robbery  \n",
       "1                       COMMERCIAL,DAY        Robbery  \n",
       "2                 BEGIN AS SHOPLIFTING        Robbery  \n",
       "3  GRAND FROM RETAIL STORE, UNATTENDED        Robbery  \n",
       "4               GRAND FROM STORE-SHOPL        Robbery  "
      ]
     },
     "execution_count": 65,
     "metadata": {},
     "output_type": "execute_result"
    }
   ],
   "source": [
    "test_data_frame.head()"
   ]
  },
  {
   "cell_type": "code",
   "execution_count": 10,
   "metadata": {},
   "outputs": [],
   "source": [
    "total_week_to_date_2022 = pd.read_csv(\"scraped-data/total_week_to_date_2022.csv\")"
   ]
  },
  {
   "cell_type": "markdown",
   "metadata": {},
   "source": [
    "- converting the SVG coordinates to longitude and latitudes"
   ]
  },
  {
   "cell_type": "code",
   "execution_count": null,
   "metadata": {},
   "outputs": [],
   "source": [
    "total_week_to_date_2022.head(20)"
   ]
  },
  {
   "cell_type": "code",
   "execution_count": 75,
   "metadata": {},
   "outputs": [
    {
     "data": {
      "text/html": [
       "<div>\n",
       "<style scoped>\n",
       "    .dataframe tbody tr th:only-of-type {\n",
       "        vertical-align: middle;\n",
       "    }\n",
       "\n",
       "    .dataframe tbody tr th {\n",
       "        vertical-align: top;\n",
       "    }\n",
       "\n",
       "    .dataframe thead th {\n",
       "        text-align: right;\n",
       "    }\n",
       "</style>\n",
       "<table border=\"1\" class=\"dataframe\">\n",
       "  <thead>\n",
       "    <tr style=\"text-align: right;\">\n",
       "      <th></th>\n",
       "      <th>Unnamed: 0</th>\n",
       "      <th>x_cord</th>\n",
       "      <th>y_cord</th>\n",
       "      <th>time</th>\n",
       "      <th>crime</th>\n",
       "      <th>crime_category</th>\n",
       "    </tr>\n",
       "  </thead>\n",
       "  <tbody>\n",
       "    <tr>\n",
       "      <th>33470</th>\n",
       "      <td>33471</td>\n",
       "      <td>1023.574167</td>\n",
       "      <td>464.402568</td>\n",
       "      <td>05/02/22 5PM</td>\n",
       "      <td>GRAND BY BANK ACCT COMPROMISE-UNCLASSIFIED</td>\n",
       "      <td>Gr. Larceny</td>\n",
       "    </tr>\n",
       "  </tbody>\n",
       "</table>\n",
       "</div>"
      ],
      "text/plain": [
       "       Unnamed: 0       x_cord      y_cord          time  \\\n",
       "33470       33471  1023.574167  464.402568  05/02/22 5PM   \n",
       "\n",
       "                                            crime crime_category  \n",
       "33470  GRAND BY BANK ACCT COMPROMISE-UNCLASSIFIED    Gr. Larceny  "
      ]
     },
     "execution_count": 75,
     "metadata": {},
     "output_type": "execute_result"
    }
   ],
   "source": [
    "data_frame[data_frame[\"Unnamed: 0\"]==33471]"
   ]
  },
  {
   "cell_type": "code",
   "execution_count": 72,
   "metadata": {},
   "outputs": [
    {
     "data": {
      "application/vnd.jupyter.widget-view+json": {
       "model_id": "320a38ce99bf4b5bab507bf263bf5f9c",
       "version_major": 2,
       "version_minor": 0
      },
      "text/plain": [
       "Map(center=[40.76061, -73.935242], controls=(ZoomControl(options=['position', 'zoom_in_text', 'zoom_in_title',…"
      ]
     },
     "metadata": {},
     "output_type": "display_data"
    }
   ],
   "source": [
    "from ipyleaflet import Map, basemaps, basemap_to_tiles, Marker\n",
    "\n",
    "m = Map(\n",
    "    basemap=basemap_to_tiles(basemaps.OpenStreetMap.Mapnik),\n",
    "    center=(40.760610, -73.935242),\n",
    "    zoom=12\n",
    "    )\n",
    "\n",
    "def pointOnMap(SVGtoLL):\n",
    "    coords = SVGtoLL\n",
    "\n",
    "    longi_num =  SVGtoLL[0][0]\n",
    "    longi_denum = SVGtoLL[0][1]\n",
    "\n",
    "    lati_num = SVGtoLL[1][0]\n",
    "    lati_denum = SVGtoLL[1][1]\n",
    "\n",
    "    global m\n",
    "    m.add_layer(Marker(location = (40.751016,-73.935242)))\n",
    "\n",
    "\n",
    "#for i in range(len(test_data_frame)):\n",
    "#    m.add_layer(Marker(location = (test_data_frame[\"y_cord\"][i], test_data_frame[\"x_cord\"][i]), name = \"LL\", color = \"red\"))\n",
    "#pointOnMap(SVGtoLL(140.1489072337863,358.6947293562116))\n",
    "m\n"
   ]
  },
  {
   "cell_type": "markdown",
   "metadata": {},
   "source": [
    "### In Planning\n",
    "\n",
    "- database implementation\n",
    "- parallel execution via multiple taps to increase scrapping speed\n",
    "- data exploration\n",
    "- data visualization\n",
    "- machine-learning application"
   ]
  }
 ],
 "metadata": {
  "kernelspec": {
   "display_name": "Python 3.10.4 ('python3.10.4')",
   "language": "python",
   "name": "python3"
  },
  "language_info": {
   "codemirror_mode": {
    "name": "ipython",
    "version": 3
   },
   "file_extension": ".py",
   "mimetype": "text/x-python",
   "name": "python",
   "nbconvert_exporter": "python",
   "pygments_lexer": "ipython3",
   "version": "3.10.4"
  },
  "orig_nbformat": 4,
  "vscode": {
   "interpreter": {
    "hash": "9ee46e8c030b83add0a4dedfbe282912f17e3ed8f04eadf3bfcaaf2dcafb622f"
   }
  }
 },
 "nbformat": 4,
 "nbformat_minor": 2
}
